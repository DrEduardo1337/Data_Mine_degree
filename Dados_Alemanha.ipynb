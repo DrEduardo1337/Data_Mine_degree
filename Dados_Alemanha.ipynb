{
  "nbformat": 4,
  "nbformat_minor": 0,
  "metadata": {
    "colab": {
      "provenance": [],
      "toc_visible": true,
      "authorship_tag": "ABX9TyOAecf/veyCS3PMkwNapQCU",
      "include_colab_link": true
    },
    "kernelspec": {
      "name": "python3",
      "display_name": "Python 3"
    },
    "language_info": {
      "name": "python"
    }
  },
  "cells": [
    {
      "cell_type": "markdown",
      "metadata": {
        "id": "view-in-github",
        "colab_type": "text"
      },
      "source": [
        "<a href=\"https://colab.research.google.com/github/DrEduardo1337/Data_Mine_degree/blob/main/Dados_Alemanha.ipynb\" target=\"_parent\"><img src=\"https://colab.research.google.com/assets/colab-badge.svg\" alt=\"Open In Colab\"/></a>"
      ]
    },
    {
      "cell_type": "code",
      "execution_count": 22,
      "metadata": {
        "id": "-uVgpG_dwhUv"
      },
      "outputs": [],
      "source": [
        "import numpy as np\n",
        "import pandas as pd\n",
        "from google.colab import drive"
      ]
    },
    {
      "cell_type": "code",
      "source": [
        "drive.mount('/content/drive')\n",
        "df = pd.read_csv('/content/drive/MyDrive/dados/sagah.csv')\n",
        "\n",
        "print(df.head())"
      ],
      "metadata": {
        "colab": {
          "base_uri": "https://localhost:8080/"
        },
        "collapsed": true,
        "id": "WvQdtLDl2ejJ",
        "outputId": "30f270a5-f2f5-4c26-d653-6899aa463472"
      },
      "execution_count": 23,
      "outputs": [
        {
          "output_type": "stream",
          "name": "stdout",
          "text": [
            "Drive already mounted at /content/drive; to attempt to forcibly remount, call drive.mount(\"/content/drive\", force_remount=True).\n",
            "   Biomass  Fossil Brown coal/Lignite  Fossil Coal-derived gas  Fossil Gas  \\\n",
            "0   4719.0                    13270.0                    534.0      1165.0   \n",
            "1   4710.0                    13344.0                    526.0      1163.0   \n",
            "2   4706.0                    13285.0                    525.0      1154.0   \n",
            "3   4703.0                    13293.0                    517.0      1148.0   \n",
            "4   4701.0                    13694.0                    518.0      1159.0   \n",
            "\n",
            "   Fossil Hard coal  Fossil Oil  Fossil Oil shale  Fossil Peat  Geothermal  \\\n",
            "0            4439.0         0.0               0.0          0.0         6.0   \n",
            "1            4460.0         0.0               0.0          0.0         6.0   \n",
            "2            4594.0         0.0               0.0          0.0         6.0   \n",
            "3            4648.0         0.0               0.0          0.0         6.0   \n",
            "4            4847.0         0.0               0.0          0.0         6.0   \n",
            "\n",
            "   Hydro Pumped Storage  ...  Other renewable  Solar  Waste  Wind Offshore  \\\n",
            "0                 190.0  ...            172.0    0.0  628.0         3300.0   \n",
            "1                 215.0  ...            171.0    0.0  626.0         3304.0   \n",
            "2                 226.0  ...            170.0    0.0  623.0         3303.0   \n",
            "3                 223.0  ...            170.0    0.0  616.0         3306.0   \n",
            "4                 122.0  ...            170.0    0.0  614.0         3308.0   \n",
            "\n",
            "   Wind Onshore    Emission  Consumption        Date   Hour  Generation  \n",
            "0       12046.0  332.655892      44712.0  2017/01/01  00:00     51879.0  \n",
            "1       12117.0  332.850471      44637.0  2017/01/01  00:15     52050.0  \n",
            "2       12219.0  332.893549      44484.0  2017/01/01  00:30     52165.0  \n",
            "3       12092.0  334.495980      44214.0  2017/01/01  00:45     51867.0  \n",
            "4       12069.0  339.930235      43632.0  2017/01/01  01:00     52777.0  \n",
            "\n",
            "[5 rows x 24 columns]\n"
          ]
        }
      ]
    },
    {
      "cell_type": "code",
      "metadata": {
        "colab": {
          "base_uri": "https://localhost:8080/"
        },
        "collapsed": true,
        "id": "a388366c",
        "outputId": "304f219e-9d6d-4a89-82fa-66447f01aea3"
      },
      "source": [
        "# Analisar Dados Ausentes\n",
        "# Verificar se há algum valor nulo\n",
        "missing_values_count = df.isnull().sum()\n",
        "\n",
        "print(\"Contagem de valores faltantes por coluna:\")\n",
        "print(missing_values_count[missing_values_count > 0])\n",
        "\n",
        "# Para verificar quais dias têm dados faltantes, precisamos primeiro garantir que a coluna 'Date' seja do tipo datetime.\n",
        "# Converter a coluna 'Date' para datetime, se ainda não for\n",
        "df['Date'] = pd.to_datetime(df['Date'], errors='coerce')\n",
        "\n",
        "# Identificar as linhas com dados faltantes\n",
        "rows_with_missing_data = df[df.isnull().any(axis=1)]\n",
        "\n",
        "# Obter os dias únicos com dados faltantes\n",
        "days_with_missing_data = rows_with_missing_data['Date'].dt.date.unique()\n",
        "\n",
        "print(\"\\nDias com dados faltantes:\")\n",
        "if len(days_with_missing_data) > 0:\n",
        "    for day in days_with_missing_data:\n",
        "        print(day)\n",
        "else:\n",
        "    print(\"Não há dias com dados faltantes.\")\n",
        "\n",
        "# Contar o número total de dias únicos no dataset\n",
        "total_unique_days = df['Date'].dt.date.nunique()\n",
        "\n",
        "# Contar o número de dias com dados completos\n",
        "# Assumindo que um dia completo tem 24 horas * (60/15 minutos por registro) = 96 registros\n",
        "# Primeiro, vamos agrupar por data e contar o número de registros por dia\n",
        "records_per_day = df.groupby(df['Date'].dt.date).size()\n",
        "\n",
        "# Dias com dados completos são aqueles que têm 96 registros\n",
        "days_with_complete_data_count = (records_per_day == 96).sum()\n",
        "\n",
        "print(f\"\\nNúmero total de dias únicos no dataset: {total_unique_days}\")\n",
        "print(f\"Número de dias com dados completos (assumindo 96 registros por dia): {days_with_complete_data_count}\")\n",
        "print(f\"Número de dias com dados faltantes: {len(days_with_missing_data)}\")"
      ],
      "execution_count": 24,
      "outputs": [
        {
          "output_type": "stream",
          "name": "stdout",
          "text": [
            "Contagem de valores faltantes por coluna:\n",
            "Biomass                              1\n",
            "Fossil Gas                           2\n",
            "Fossil Hard coal                     2\n",
            "Fossil Oil                          96\n",
            "Fossil Oil shale                   181\n",
            "Fossil Peat                        181\n",
            "Hydro Pumped Storage                 2\n",
            "Hydro Run-of-river and poundage      2\n",
            "Marine                             181\n",
            "Nuclear                              2\n",
            "Other renewable                      2\n",
            "Solar                                1\n",
            "Emission                            99\n",
            "Consumption                          9\n",
            "Generation                         280\n",
            "dtype: int64\n",
            "\n",
            "Dias com dados faltantes:\n",
            "2017-03-12\n",
            "2017-03-26\n",
            "2017-05-16\n",
            "2017-06-24\n",
            "2017-06-29\n",
            "2017-06-30\n",
            "2018-01-07\n",
            "2018-01-08\n",
            "2018-01-19\n",
            "2018-02-04\n",
            "2018-02-13\n",
            "2018-02-17\n",
            "2018-04-26\n",
            "2018-07-30\n",
            "2018-08-01\n",
            "\n",
            "Número total de dias únicos no dataset: 730\n",
            "Número de dias com dados completos (assumindo 96 registros por dia): 726\n",
            "Número de dias com dados faltantes: 15\n"
          ]
        }
      ]
    },
    {
      "cell_type": "code",
      "metadata": {
        "colab": {
          "base_uri": "https://localhost:8080/"
        },
        "collapsed": true,
        "id": "029efb24",
        "outputId": "6b10f761-8aee-42b7-de30-f3f75093b37d"
      },
      "source": [
        "# Fontes de Energia por Geração Média\n",
        "# Identificar as colunas que representam fontes de energia.\n",
        "# Assumindo que todas as colunas, exceto 'Date', 'Hour', 'Emission', 'Consumption', e 'Generation' são fontes de energia.\n",
        "energy_columns = df.columns.difference(['Date', 'Hour', 'Emission', 'Consumption', 'Generation'])\n",
        "\n",
        "# Calcula média de geração para cada fonte de energia\n",
        "average_generation_per_source = df[energy_columns].mean()\n",
        "\n",
        "# Encontrar a fonte de energia com a maior média de geração\n",
        "most_generated_source = average_generation_per_source.idxmax()\n",
        "max_average_generation = average_generation_per_source.max()\n",
        "\n",
        "print(\"\\nMédia de Geração por Fonte de Energia:\")\n",
        "print(average_generation_per_source.sort_values(ascending=False))\n",
        "\n",
        "print(f\"\\nFonte de energia com a maior média de geração: {most_generated_source}\")\n",
        "print(f\"Média de geração: {max_average_generation:.2f}\")"
      ],
      "execution_count": 26,
      "outputs": [
        {
          "output_type": "stream",
          "name": "stdout",
          "text": [
            "\n",
            "Média de Geração por Fonte de Energia:\n",
            "Fossil Brown coal/Lignite          14724.595049\n",
            "Wind Onshore                        9973.386615\n",
            "Nuclear                             8221.482662\n",
            "Fossil Hard coal                    7869.442407\n",
            "Biomass                             4588.779049\n",
            "Solar                               4401.507342\n",
            "Fossil Gas                          2898.159793\n",
            "Wind Offshore                       2082.995491\n",
            "Hydro Run-of-river and poundage     1674.416436\n",
            "Hydro Pumped Storage                1101.917891\n",
            "Waste                                624.678624\n",
            "Fossil Coal-derived gas              428.670519\n",
            "Other renewable                      168.714390\n",
            "Fossil Oil                           158.146905\n",
            "Hydro Water Reservoir                 86.158390\n",
            "Geothermal                             3.771062\n",
            "Fossil Oil shale                       0.000000\n",
            "Fossil Peat                            0.000000\n",
            "Marine                                 0.000000\n",
            "dtype: float64\n",
            "\n",
            "Fonte de energia com a maior média de geração: Fossil Brown coal/Lignite\n",
            "Média de geração: 14724.60\n"
          ]
        }
      ]
    },
    {
      "cell_type": "code",
      "metadata": {
        "colab": {
          "base_uri": "https://localhost:8080/"
        },
        "collapsed": true,
        "id": "08cfad95",
        "outputId": "6c2fd4eb-d440-4cb6-8e46-4787739f0d67"
      },
      "source": [
        "# Analisar Fontes de Energia em Relação ao Consumo Médio\n",
        "# Calcular o consumo médio\n",
        "average_consumption = df['Consumption'].mean()\n",
        "\n",
        "# Calcular 5% do consumo médio\n",
        "threshold = 0.05 * average_consumption\n",
        "\n",
        "print(f\"\\nConsumo médio: {average_consumption:.2f}\")\n",
        "print(f\"5% do consumo médio (limite): {threshold:.2f}\")\n",
        "\n",
        "# Identificar as fontes de energia cuja média de geração é maior que o limite\n",
        "sources_above_threshold = average_generation_per_source[average_generation_per_source > threshold]\n",
        "\n",
        "print(\"\\nFontes de energia com média de geração maior que 5% do consumo médio:\")\n",
        "print(sources_above_threshold.sort_values(ascending=False))"
      ],
      "execution_count": 27,
      "outputs": [
        {
          "output_type": "stream",
          "name": "stdout",
          "text": [
            "\n",
            "Consumo médio: 57185.17\n",
            "5% do consumo médio (limite): 2859.26\n",
            "\n",
            "Fontes de energia com média de geração maior que 5% do consumo médio:\n",
            "Fossil Brown coal/Lignite    14724.595049\n",
            "Wind Onshore                  9973.386615\n",
            "Nuclear                       8221.482662\n",
            "Fossil Hard coal              7869.442407\n",
            "Biomass                       4588.779049\n",
            "Solar                         4401.507342\n",
            "Fossil Gas                    2898.159793\n",
            "dtype: float64\n"
          ]
        }
      ]
    },
    {
      "cell_type": "code",
      "metadata": {
        "colab": {
          "base_uri": "https://localhost:8080/"
        },
        "id": "1a760bd9",
        "outputId": "3ce8909c-1953-4a24-9da3-815bf583dafd"
      },
      "source": [
        "# Analisar Fontes de Energia Renovável (Wind Offshore, Wind Onshore, Solar)\n",
        "# Calcular a média de geração para as fontes de energia renovável especificadas\n",
        "renewable_sources = ['Wind Offshore', 'Wind Onshore', 'Solar']\n",
        "average_generation_renewable = df[renewable_sources].mean()\n",
        "\n",
        "print(\"\\nMédia de Geração para Fontes de Energia Renovável (Wind Offshore, Wind Onshore, Solar):\")\n",
        "print(average_generation_renewable.sort_values(ascending=False))\n",
        "\n",
        "# Identificar a fonte de energia renovável com a maior média de geração entre as selecionadas\n",
        "most_generated_renewable = average_generation_renewable.idxmax()\n",
        "max_average_generation_renewable = average_generation_renewable.max()\n",
        "\n",
        "print(f\"\\nFonte de energia renovável com a maior média de geração (entre Wind Offshore, Wind Onshore, Solar): {most_generated_renewable}\")\n",
        "print(f\"Média de geração: {max_average_generation_renewable:.2f}\")"
      ],
      "execution_count": 28,
      "outputs": [
        {
          "output_type": "stream",
          "name": "stdout",
          "text": [
            "\n",
            "Média de Geração para Fontes de Energia Renovável (Wind Offshore, Wind Onshore, Solar):\n",
            "Wind Onshore     9973.386615\n",
            "Solar            4401.507342\n",
            "Wind Offshore    2082.995491\n",
            "dtype: float64\n",
            "\n",
            "Fonte de energia renovável com a maior média de geração (entre Wind Offshore, Wind Onshore, Solar): Wind Onshore\n",
            "Média de geração: 9973.39\n"
          ]
        }
      ]
    }
  ]
}